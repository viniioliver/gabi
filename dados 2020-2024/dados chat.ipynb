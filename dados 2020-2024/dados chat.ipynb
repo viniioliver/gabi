{
 "cells": [
  {
   "cell_type": "code",
   "execution_count": 9,
   "metadata": {},
   "outputs": [
    {
     "name": "stderr",
     "output_type": "stream",
     "text": [
      "C:\\Users\\36134552025.1\\AppData\\Local\\Temp\\ipykernel_20668\\2337465918.py:4: DtypeWarning: Columns (13) have mixed types. Specify dtype option on import or set low_memory=False.\n",
      "  df2 = pd.read_csv('202.csv', sep=';', encoding='latin1')\n"
     ]
    }
   ],
   "source": [
    "import pandas as pd\n",
    "#Carregar os CSV e usar o encoding para padronização do panda\n",
    "df1 = pd.read_csv('201.csv', sep=';', encoding='latin1')\n",
    "df2 = pd.read_csv('202.csv', sep=';', encoding='latin1')\n",
    "df3 = pd.read_csv('211.csv', sep=';', encoding='latin1')\n",
    "df4 = pd.read_csv('212.csv', sep=';', encoding='latin1')\n",
    "df5 = pd.read_csv('221.csv', sep=';', encoding='latin1')\n",
    "df6 = pd.read_csv('222.csv', sep=';', encoding='latin1')\n",
    "df7 = pd.read_csv('231.csv', sep=';', encoding='latin1')\n",
    "df8 = pd.read_csv('232.csv', sep=';', encoding='latin1')\n",
    "df9 = pd.read_csv('241.csv', sep=';', encoding='latin1')\n",
    "df10 = pd.read_csv('242.csv', sep=';', encoding='latin1')\n",
    "\n",
    "# Junta todos os dataframes em um só\n",
    "df = pd.concat([df1, df2, df3, df4, df5, df6, df7, df8, df9, df10], ignore_index=True)\n"
   ]
  },
  {
   "cell_type": "code",
   "execution_count": 10,
   "metadata": {},
   "outputs": [],
   "source": [
    "# Exemplo\n",
    "df['Data Coleta'] = pd.to_datetime(df['Data da Coleta'], format='%d/%m/%Y')\n",
    "df['Ano-Mês'] = df['Data Coleta'].dt.to_period('M')\n",
    "\n",
    "# Criar coluna Região (exemplo)\n",
    "regioes = {\n",
    "    'SP': 'SE', 'RJ': 'SE', 'MG': 'SE',\n",
    "    'BA': 'NE', 'PE': 'NE',\n",
    "    # completar com os estados que tiver\n",
    "}\n",
    "df['Região'] = df['Estado - Sigla'].map(regioes)\n"
   ]
  },
  {
   "cell_type": "code",
   "execution_count": null,
   "metadata": {},
   "outputs": [],
   "source": [
    "# Preço médio mensal por estado (gasolina comum)\n",
    "gasolina_comum = df[df['Produto'] == 'GASOLINA COMUM']\n",
    "media_mensal_estado = gasolina_comum.groupby(['Estado - Sigla', 'Ano-Mês'])['Preço de Venda'].mean().reset_index()\n",
    "\n",
    "# Gráfico de linha para tendência\n",
    "import matplotlib.pyplot as plt\n",
    "import seaborn as sns\n",
    "\n",
    "plt.figure(figsize=(12,6))\n",
    "sns.lineplot(data=media_mensal_estado, x='Ano-Mês', y='Preço de Venda', hue='Estado - Sigla')\n",
    "plt.title('Evolução mensal do preço médio da gasolina comum por estado')\n",
    "plt.xticks(rotation=45)\n",
    "plt.show()\n"
   ]
  },
  {
   "cell_type": "code",
   "execution_count": 13,
   "metadata": {},
   "outputs": [],
   "source": [
    "gasolina_comum = df[df['Produto'] == 'GASOLINA COMUM']\n",
    "media_mensal_estado = gasolina_comum.groupby(['Estado - Sigla', 'Ano-Mês'])['Valor de Venda'].mean().reset_index()\n",
    "\n"
   ]
  },
  {
   "cell_type": "code",
   "execution_count": 14,
   "metadata": {},
   "outputs": [],
   "source": [
    "df['Data Coleta'] = pd.to_datetime(df['Data da Coleta'], format='%d/%m/%Y')  # ajuste o nome da coluna data\n",
    "df['Ano-Mês'] = df['Data Coleta'].dt.to_period('M')\n"
   ]
  },
  {
   "cell_type": "code",
   "execution_count": 15,
   "metadata": {},
   "outputs": [
    {
     "name": "stdout",
     "output_type": "stream",
     "text": [
      "['GASOLINA' 'ETANOL' 'DIESEL S10' 'GNV' 'DIESEL' 'GASOLINA ADITIVADA']\n"
     ]
    }
   ],
   "source": [
    "print(df['Produto'].unique())\n"
   ]
  },
  {
   "cell_type": "code",
   "execution_count": 18,
   "metadata": {},
   "outputs": [],
   "source": [
    "gasolina_comum = df[df['Produto'] == 'GASOLINA']"
   ]
  },
  {
   "cell_type": "code",
   "execution_count": null,
   "metadata": {},
   "outputs": [],
   "source": [
    "media_mensal_estado = gasolina_comum.groupby(['Estado - Sigla', 'Ano-Mês'])['Valor de Venda'].mean().reset_index()\n"
   ]
  },
  {
   "cell_type": "code",
   "execution_count": 20,
   "metadata": {},
   "outputs": [],
   "source": [
    "df['Valor de Venda'] = df['Valor de Venda'].str.replace(',', '.').str.strip()\n",
    "df['Valor de Venda'] = pd.to_numeric(df['Valor de Venda'], errors='coerce')\n"
   ]
  },
  {
   "cell_type": "code",
   "execution_count": 21,
   "metadata": {},
   "outputs": [
    {
     "name": "stdout",
     "output_type": "stream",
     "text": [
      "     Estado - Sigla  Ano-Mês  Valor de Venda\n",
      "0                AC  2020-01        5.031039\n",
      "1                AC  2020-02        4.990519\n",
      "2                AC  2020-03        4.885911\n",
      "3                AC  2020-04        4.602797\n",
      "4                AC  2020-05        4.366237\n",
      "...             ...      ...             ...\n",
      "1588             TO  2024-08        6.478976\n",
      "1589             TO  2024-09        6.446134\n",
      "1590             TO  2024-10        6.425122\n",
      "1591             TO  2024-11        6.430667\n",
      "1592             TO  2024-12        6.449240\n",
      "\n",
      "[1593 rows x 3 columns]\n"
     ]
    }
   ],
   "source": [
    "gasolina_comum = df[df['Produto'] == 'GASOLINA']\n",
    "media_mensal_estado = gasolina_comum.groupby(['Estado - Sigla', 'Ano-Mês'])['Valor de Venda'].mean().reset_index()\n",
    "print(media_mensal_estado)\n"
   ]
  }
 ],
 "metadata": {
  "kernelspec": {
   "display_name": "Python 3",
   "language": "python",
   "name": "python3"
  },
  "language_info": {
   "codemirror_mode": {
    "name": "ipython",
    "version": 3
   },
   "file_extension": ".py",
   "mimetype": "text/x-python",
   "name": "python",
   "nbconvert_exporter": "python",
   "pygments_lexer": "ipython3",
   "version": "3.11.4"
  },
  "orig_nbformat": 4
 },
 "nbformat": 4,
 "nbformat_minor": 2
}
