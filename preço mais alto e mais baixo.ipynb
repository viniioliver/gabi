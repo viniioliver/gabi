{
 "cells": [
  {
   "cell_type": "code",
   "execution_count": 15,
   "metadata": {},
   "outputs": [],
   "source": [
    "import pandas as pd"
   ]
  },
  {
   "cell_type": "code",
   "execution_count": 16,
   "metadata": {},
   "outputs": [],
   "source": [
    "df = pd.read_csv('2_2024.csv',sep=';')\n",
    "#sep de separador"
   ]
  },
  {
   "cell_type": "code",
   "execution_count": 17,
   "metadata": {},
   "outputs": [],
   "source": [
    "df['Valor de Venda'] = df['Valor de Venda'].str.replace(',','.').astype(float)\n",
    "#replace para trocar , por .\n",
    "#df para pegar o valor de venda que tem valor string e trocar por float"
   ]
  },
  {
   "cell_type": "code",
   "execution_count": null,
   "metadata": {},
   "outputs": [],
   "source": [
    "\n",
    "#df.loc acesso por uma condição\n",
    "#df_RJ = df.loc[df['Estado - Sigla'] == 'RJ']\n",
    "#df_RJ.head(10)"
   ]
  },
  {
   "cell_type": "code",
   "execution_count": 45,
   "metadata": {},
   "outputs": [
    {
     "name": "stdout",
     "output_type": "stream",
     "text": [
      "5 bairros com gasolina mais barata:\n",
      "               Bairro  Valor de Venda\n",
      "27             JACARE           5.390\n",
      "52              ROCHA           5.436\n",
      "31     JARDIM SULACAP           5.440\n",
      "46  QUINTINO BOCAIUVA           5.551\n",
      "35          MADUREIRA           5.567\n",
      "\n",
      "5 bairros com gasolina mais cara:\n",
      "             Bairro  Valor de Venda\n",
      "32            LAGOA           6.457\n",
      "39  PARQUE FLAMENGO           6.530\n",
      "30  JARDIM BOTANICO           6.539\n",
      "62   VARGEM PEQUENA           6.634\n",
      "20         FLAMENGO           6.790\n"
     ]
    }
   ],
   "source": [
    "\n",
    "df_RJ_gasolina = df.loc[(df['Estado - Sigla'] == 'RJ') & (df['Municipio'] == 'RIO DE JANEIRO') & (df['Produto'] == 'GASOLINA')]\n",
    "#Novo DF para criar um novo DF que vai ter somente as colunas onde o estado for RJ , Municipio RIO DE JANEIRO e produto GASOLINA\n",
    "media_por_bairro = df_RJ_gasolina.groupby('Bairro')['Valor de Venda'].mean().reset_index().round(3)\n",
    "#novo DF que utiliza o DF recem criado para somente bairros do RJ com 2 colunas juntando os bairros em somente um e fazendo a media do valor de venda. Round 3 para usar 3 digitos pos o ponto.\n",
    "media_ordenada = media_por_bairro.sort_values(by='Valor de Venda')\n",
    "#Novo Df para colocar em ordem crescente do valor de venda todos os bairros\n",
    "bairro_mais_barato = media_ordenada.head(5)\n",
    "#Novo Df para colocar os 5 primeiros bairros mais baratos\n",
    "cinco_bairros_mais_baratos = media_ordenada.head(5) #Mostra os 5 primeiros da lista\n",
    "#DF para colocar os 5 primeiros \n",
    "\n",
    "cinco_bairros_mais_caros = media_ordenada.tail(5) #Mostra os 5 ultimos da lista\n",
    "\n",
    "print(\"5 bairros com gasolina mais barata:\")\n",
    "print(cinco_bairros_mais_baratos)\n",
    "\n",
    "print(\"\\n5 bairros com gasolina mais cara:\")\n",
    "print(cinco_bairros_mais_caros)"
   ]
  }
 ],
 "metadata": {
  "kernelspec": {
   "display_name": "Python 3",
   "language": "python",
   "name": "python3"
  },
  "language_info": {
   "codemirror_mode": {
    "name": "ipython",
    "version": 3
   },
   "file_extension": ".py",
   "mimetype": "text/x-python",
   "name": "python",
   "nbconvert_exporter": "python",
   "pygments_lexer": "ipython3",
   "version": "3.11.4"
  },
  "orig_nbformat": 4
 },
 "nbformat": 4,
 "nbformat_minor": 2
}
